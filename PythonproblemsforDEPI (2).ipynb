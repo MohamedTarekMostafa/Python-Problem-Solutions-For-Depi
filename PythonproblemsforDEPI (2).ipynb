{
  "nbformat": 4,
  "nbformat_minor": 0,
  "metadata": {
    "colab": {
      "provenance": []
    },
    "kernelspec": {
      "name": "python3",
      "display_name": "Python 3"
    },
    "language_info": {
      "name": "python"
    }
  },
  "cells": [
    {
      "cell_type": "markdown",
      "source": [
        "#Triangle"
      ],
      "metadata": {
        "id": "FAeylZBwrrAB"
      }
    },
    {
      "cell_type": "code",
      "source": [
        "#Triangle\n",
        "for i in range(0,6):\n",
        "  for j in range(i):\n",
        "    print(\"*\",end=\" \")\n",
        "  print(\"\\n\")"
      ],
      "metadata": {
        "colab": {
          "base_uri": "https://localhost:8080/"
        },
        "id": "Xz53QY45tBfh",
        "outputId": "69871e74-8cee-4b5d-c8aa-ba100a5df611"
      },
      "execution_count": null,
      "outputs": [
        {
          "output_type": "stream",
          "name": "stdout",
          "text": [
            "\n",
            "\n",
            "* \n",
            "\n",
            "* * \n",
            "\n",
            "* * * \n",
            "\n",
            "* * * * \n",
            "\n",
            "* * * * * \n",
            "\n"
          ]
        }
      ]
    },
    {
      "cell_type": "markdown",
      "source": [],
      "metadata": {
        "id": "AUp8-V4owS8a"
      }
    },
    {
      "cell_type": "markdown",
      "source": [
        "# Multiplication Table"
      ],
      "metadata": {
        "id": "kDs-o2LbwW6H"
      }
    },
    {
      "cell_type": "code",
      "source": [
        "###for range 1 to  4\n",
        "for i in range(1,4):\n",
        "  for j in range(1,4):\n",
        "    print(f\"{i}*{j}={i*j}\")\n",
        "\n"
      ],
      "metadata": {
        "colab": {
          "base_uri": "https://localhost:8080/"
        },
        "id": "Z8HlKt4KwZjk",
        "outputId": "a0eba30d-1497-4eb7-d15f-bddc3d269632"
      },
      "execution_count": null,
      "outputs": [
        {
          "output_type": "stream",
          "name": "stdout",
          "text": [
            "1*1=1\n",
            "1*2=2\n",
            "1*3=3\n",
            "2*1=2\n",
            "2*2=4\n",
            "2*3=6\n",
            "3*1=3\n",
            "3*2=6\n",
            "3*3=9\n"
          ]
        }
      ]
    },
    {
      "cell_type": "markdown",
      "source": [],
      "metadata": {
        "id": "llQkrDE1zaQh"
      }
    },
    {
      "cell_type": "markdown",
      "source": [
        "\n",
        "# Write a Python program that accepts a word from the user and reverses it.\n",
        "\n",
        "\n",
        "\n",
        "\n",
        "\n"
      ],
      "metadata": {
        "id": "Q22ni4nbzcY-"
      }
    },
    {
      "cell_type": "code",
      "source": [
        "word = input(\"Enter a word: \")\n",
        "\n",
        "reversed_word = word[::-1]#Start from the end to the first\n",
        "\n",
        "print(f\"The reversed word is: {reversed_word}\")"
      ],
      "metadata": {
        "colab": {
          "base_uri": "https://localhost:8080/"
        },
        "id": "TMQ72MEW1iQG",
        "outputId": "7962be16-4cf9-47ed-827b-c321d67c1079"
      },
      "execution_count": 35,
      "outputs": [
        {
          "output_type": "stream",
          "name": "stdout",
          "text": [
            "Enter a word: mido\n",
            "The reversed word is: odim\n"
          ]
        }
      ]
    },
    {
      "cell_type": "markdown",
      "source": [
        "# finding a maximum value in a list\n"
      ],
      "metadata": {
        "id": "x6SIP_01m5ff"
      }
    },
    {
      "cell_type": "code",
      "source": [
        "# finding a maximum value in a list\n",
        "mylist=[1,2,3,4,5,6,7,8,9]\n",
        "for i in mylist:\n",
        "  if i >len(mylist):\n",
        "    print(i)\n",
        "print(f\"Maximum Number in This List is {i}\")"
      ],
      "metadata": {
        "colab": {
          "base_uri": "https://localhost:8080/"
        },
        "id": "1QmQQLGV4sf-",
        "outputId": "ca5f391a-448b-4df9-ea11-54302317f6f5"
      },
      "execution_count": null,
      "outputs": [
        {
          "output_type": "stream",
          "name": "stdout",
          "text": [
            "Maximum Number in This List is 9\n"
          ]
        }
      ]
    },
    {
      "cell_type": "markdown",
      "source": [
        "#Counting Number of Vowels in any name\n"
      ],
      "metadata": {
        "id": "grVBgwW6nA3s"
      }
    },
    {
      "cell_type": "markdown",
      "source": [],
      "metadata": {
        "id": "r8gTFeW_m-l4"
      }
    },
    {
      "cell_type": "code",
      "source": [
        "#Counting Number of Vowels in any name\n",
        "name='Mohamed Tarek Mostafa'\n",
        "count=0\n",
        "for char in name:\n",
        "  if char in ['a','e','i','o','u']:\n",
        "    count+=1\n",
        "print(f\"Number of Vowels in this name is:{count} \")"
      ],
      "metadata": {
        "colab": {
          "base_uri": "https://localhost:8080/"
        },
        "id": "wMWzO4-Z8g79",
        "outputId": "27f4071b-819c-4cec-c83f-22e99f0a4f93"
      },
      "execution_count": 1,
      "outputs": [
        {
          "output_type": "stream",
          "name": "stdout",
          "text": [
            "Number of Vowels in this name is:8 \n"
          ]
        }
      ]
    },
    {
      "cell_type": "markdown",
      "source": [
        "#Finding prime number in a range ,lets say 50 to 100\n"
      ],
      "metadata": {
        "id": "te51lUPfnMl9"
      }
    },
    {
      "cell_type": "markdown",
      "source": [],
      "metadata": {
        "id": "4Htplqrpm9u4"
      }
    },
    {
      "cell_type": "code",
      "source": [
        "#Finding prime number in a range ,lets say 50 to 100\n",
        "for num in range(50,101):\n",
        "  if num >1:\n",
        "    for i in range(2,num):\n",
        "      if num % i==0:\n",
        "        break\n",
        "    else:\n",
        "      print(num,\"This is prime Number\")\n",
        "\n"
      ],
      "metadata": {
        "colab": {
          "base_uri": "https://localhost:8080/"
        },
        "id": "jhS8KrA28lfN",
        "outputId": "14c8b456-6500-4ef4-a6c2-32ccf9c404da"
      },
      "execution_count": null,
      "outputs": [
        {
          "output_type": "stream",
          "name": "stdout",
          "text": [
            "53 This is prime Number\n",
            "59 This is prime Number\n",
            "61 This is prime Number\n",
            "67 This is prime Number\n",
            "71 This is prime Number\n",
            "73 This is prime Number\n",
            "79 This is prime Number\n",
            "83 This is prime Number\n",
            "89 This is prime Number\n",
            "97 This is prime Number\n"
          ]
        }
      ]
    },
    {
      "cell_type": "markdown",
      "source": [
        "#Generating fibonacci sequence\n",
        "\n",
        "\n"
      ],
      "metadata": {
        "id": "KGkc-1QcnRLO"
      }
    },
    {
      "cell_type": "code",
      "source": [
        "#Generating fibonacci sequence\n",
        "#every number in a sequence is added for sum of two previous values\n",
        "\n",
        "n=10#iterate 10 times\n",
        "x,y=2,3\n",
        "fibonacci_sequence=[]\n",
        "while len(fibonacci_sequence)<n:\n",
        "  fibonacci_sequence.append(x)\n",
        "  x,y=y,x+y#\n",
        "print(f\"fibonacci-sequence is {fibonacci_sequence}\")\n"
      ],
      "metadata": {
        "colab": {
          "base_uri": "https://localhost:8080/"
        },
        "id": "vZFxYWmlAheN",
        "outputId": "b3222190-8bbb-4e49-8290-30332799605e"
      },
      "execution_count": 4,
      "outputs": [
        {
          "output_type": "stream",
          "name": "stdout",
          "text": [
            "fibonacci-sequence is [2, 3, 5, 8, 13, 21, 34, 55, 89, 144]\n"
          ]
        }
      ]
    },
    {
      "cell_type": "markdown",
      "source": [
        "#Python program to guess number between 1 and 9\n"
      ],
      "metadata": {
        "id": "JuOkLfhXnV77"
      }
    },
    {
      "cell_type": "code",
      "source": [
        "#Python program to guess number between 1 and 9\n",
        "num = int(input(\"Enter The Number\"))\n",
        "if num in range(0,10):###0===9\n",
        "  for i in range(0,10):\n",
        "    if num ==i:\n",
        "      print(f\"The Guessed number is {num}\")\n",
        "else:\n",
        "  print(\"This Number is not in arange(0,10)\")\n",
        "\n",
        "\n",
        "\n",
        ""
      ],
      "metadata": {
        "id": "9VyYezrmWJog",
        "colab": {
          "base_uri": "https://localhost:8080/"
        },
        "outputId": "5bcf2157-ef26-43a3-d37a-e8422785be7c"
      },
      "execution_count": 8,
      "outputs": [
        {
          "output_type": "stream",
          "name": "stdout",
          "text": [
            "Enter The Number3\n",
            "The Guessed number is 3\n"
          ]
        }
      ]
    },
    {
      "cell_type": "markdown",
      "source": [
        "#Python Program to write to print all numbers between 0 , 6 except 3, 6\n"
      ],
      "metadata": {
        "id": "cVSESCpDnby-"
      }
    },
    {
      "cell_type": "markdown",
      "source": [],
      "metadata": {
        "id": "CIcu9sYZnaDY"
      }
    },
    {
      "cell_type": "code",
      "source": [
        "#Python Program to write to print all numbers between 0 , 6 except 3, 6\n",
        "\n",
        "for i in range(0,6):\n",
        "  if (i==6) or (i==3):\n",
        "    continue\n",
        "  print(i)\n",
        "\n",
        "\n",
        ""
      ],
      "metadata": {
        "colab": {
          "base_uri": "https://localhost:8080/"
        },
        "id": "nXTKUGPQ9KpR",
        "outputId": "32382ec0-2873-4980-b356-5ef9dd0e9b6c"
      },
      "execution_count": 14,
      "outputs": [
        {
          "output_type": "stream",
          "name": "stdout",
          "text": [
            "0\n",
            "1\n",
            "2\n",
            "4\n",
            "5\n"
          ]
        }
      ]
    },
    {
      "cell_type": "markdown",
      "source": [
        "# Write a Python program to count the number of even and odd numbers\n"
      ],
      "metadata": {
        "id": "cnjyigFZnd0x"
      }
    },
    {
      "cell_type": "code",
      "source": [
        "# Write a Python program to count the number of even and odd numbers\n",
        "sample_numbers  = (1, 2, 3, 4, 5, 6, 7, 8, 9)\n",
        "count_even=0\n",
        "count_odd=0\n",
        "for i in (sample_numbers):\n",
        "  if (i%2==0):\n",
        "    count_even+=1##Counter For Even Numbers only\n",
        "  else:\n",
        "    count_odd+=1#Counter for Odd numbers\n",
        "else:\n",
        "  print(f\"Number of Even Numbers is {count_even}\\n\")\n",
        "  print(f\"Number of Odd Numbers Is {count_odd}\")"
      ],
      "metadata": {
        "colab": {
          "base_uri": "https://localhost:8080/"
        },
        "id": "HN4Zy-hZ-dT5",
        "outputId": "bc43bb89-7857-4448-c536-44a32ce8bd8a"
      },
      "execution_count": 2,
      "outputs": [
        {
          "output_type": "stream",
          "name": "stdout",
          "text": [
            "Number of Even Numbers is 4\n",
            "\n",
            "Number of Odd Numbers Is 5\n"
          ]
        }
      ]
    },
    {
      "cell_type": "code",
      "source": [],
      "metadata": {
        "id": "t7YBl7HXBkWj"
      },
      "execution_count": null,
      "outputs": []
    },
    {
      "cell_type": "code",
      "source": [
        "\n"
      ],
      "metadata": {
        "id": "bIJWumsU_gJx"
      },
      "execution_count": 19,
      "outputs": []
    },
    {
      "cell_type": "markdown",
      "source": [],
      "metadata": {
        "id": "J4xpeet0CNVO"
      }
    },
    {
      "cell_type": "markdown",
      "source": [
        "#Write a Python program to construct the following pattern, using a nested loop number\n"
      ],
      "metadata": {
        "id": "bjDBnE-HCPZ0"
      }
    },
    {
      "cell_type": "code",
      "source": [
        "for i in range(1, 10):\n",
        "    print(str(i) * i)"
      ],
      "metadata": {
        "colab": {
          "base_uri": "https://localhost:8080/"
        },
        "id": "kQLiBC6gCSKL",
        "outputId": "b2b55482-fc4a-416c-d062-a027c73d4325"
      },
      "execution_count": 31,
      "outputs": [
        {
          "output_type": "stream",
          "name": "stdout",
          "text": [
            "1\n",
            "22\n",
            "333\n",
            "4444\n",
            "55555\n",
            "666666\n",
            "7777777\n",
            "88888888\n",
            "999999999\n"
          ]
        }
      ]
    },
    {
      "cell_type": "markdown",
      "source": [],
      "metadata": {
        "id": "pYzkWP5T7Bg9"
      }
    },
    {
      "cell_type": "markdown",
      "source": [
        "# Write a Python program to calculate the sum and average of n integer numbers (input from the user). Input 0 to finish."
      ],
      "metadata": {
        "id": "yfc5UUL8GdSQ"
      }
    },
    {
      "cell_type": "code",
      "source": [
        "n=int(input(\"Enter The Number\"))\n",
        "sum=0\n",
        "for i in range(1,n+1):\n",
        "  sum=sum+i\n",
        "average=(sum/n)\n",
        "print(f\"The sum of {n} is {sum}\\n the averge is {average}\")\n",
        "\n"
      ],
      "metadata": {
        "colab": {
          "base_uri": "https://localhost:8080/"
        },
        "id": "_Zog4d6vI7mj",
        "outputId": "afd97493-6514-47c7-e950-d7033bd1f1c1"
      },
      "execution_count": 34,
      "outputs": [
        {
          "output_type": "stream",
          "name": "stdout",
          "text": [
            "Enter The Number10\n",
            "The sum of 10 is 55\n",
            " the averge is 5.5\n"
          ]
        }
      ]
    },
    {
      "cell_type": "markdown",
      "source": [],
      "metadata": {
        "id": "elebEhltnmDF"
      }
    },
    {
      "cell_type": "markdown",
      "source": [
        "# A Program that Simulating a Basic ATM Withdrawal\n",
        "\n",
        "> Add blockquote\n",
        "\n"
      ],
      "metadata": {
        "id": "x4ykVHtCnrol"
      }
    },
    {
      "cell_type": "code",
      "source": [
        "correct_pin = 5822\n",
        "attempts = 3\n",
        "balance = 2000\n",
        "\n",
        "# PIN entry loop\n",
        "while attempts > 0:\n",
        "    tested_pin = int(input(\"Enter Your Password: \"))\n",
        "    if tested_pin == correct_pin:\n",
        "        break\n",
        "    else:\n",
        "        attempts -= 1\n",
        "        print(f\"You entered a wrong password, remaining attempts: {attempts}\")\n",
        "\n",
        "# Check if user failed all attempts\n",
        "if attempts == 0:\n",
        "    print(\"Account locked due to too many incorrect attempts.\")\n",
        "else:\n",
        "    # Proceed to withdrawal only if PIN was correct\n",
        "    withdraw_amount = int(input(\"Enter the amount you want to withdraw: \"))\n",
        "    if withdraw_amount > balance:\n",
        "        print(\"Insufficient funds.\")\n",
        "    else:\n",
        "        balance -= withdraw_amount\n",
        "        print(f\"Please wait until processing.\\nTake your cash: {withdraw_amount}EGP\\nRemaining balance: {balance}EGP\")\n"
      ],
      "metadata": {
        "colab": {
          "base_uri": "https://localhost:8080/"
        },
        "id": "6HklSQrpvzoE",
        "outputId": "d305d3a1-1ef2-4abe-d086-55a7d96c7e99"
      },
      "execution_count": 7,
      "outputs": [
        {
          "output_type": "stream",
          "name": "stdout",
          "text": [
            "Enter Your Password: 5822\n",
            "Enter the amount you want to withdraw: 600\n",
            "Please wait until processing.\n",
            "Take your cash: 600EGP\n",
            "Remaining balance: 1400EGP\n"
          ]
        }
      ]
    },
    {
      "cell_type": "markdown",
      "source": [
        "# Finding Common Elements in Two Lists"
      ],
      "metadata": {
        "id": "8LtmLoYJyuDn"
      }
    },
    {
      "cell_type": "code",
      "source": [
        "list_one=[50,60,70,80,90,100]\n",
        "list_two=[50,1,2,3,80,5,6,100]\n",
        "print(\"The Common Values of Two Lists Is: \")\n",
        "for i in list_one:\n",
        "  for j in list_two:\n",
        "    if i ==j:\n",
        "      print(i)\n"
      ],
      "metadata": {
        "colab": {
          "base_uri": "https://localhost:8080/"
        },
        "id": "g3ppsYwrwX_L",
        "outputId": "f60da01f-a808-4ce6-c140-4c8b81ca8127"
      },
      "execution_count": 14,
      "outputs": [
        {
          "output_type": "stream",
          "name": "stdout",
          "text": [
            "The Common Values of Two Lists Is: \n",
            "50\n",
            "80\n",
            "100\n"
          ]
        }
      ]
    },
    {
      "cell_type": "code",
      "source": [],
      "metadata": {
        "id": "HujNw7DYx6p6"
      },
      "execution_count": null,
      "outputs": []
    },
    {
      "cell_type": "markdown",
      "source": [
        "# Calculating Factorial of a Number"
      ],
      "metadata": {
        "id": "FiqGThX527Su"
      }
    },
    {
      "cell_type": "code",
      "source": [
        "number = int(input(\"Enter a number to calculate its factorial: \"))\n",
        "\n",
        "factorial = 1\n",
        "\n",
        "if number < 0:\n",
        "    print(\"Factorial is not defined for negative numbers.\")\n",
        "elif number == 0:\n",
        "    print(\"The factorial of 0 is 1.\")\n",
        "else:\n",
        "    for i in range(1, number + 1):\n",
        "        factorial *= i\n",
        "    print(f\"The factorial of {number} is {factorial}\")\n"
      ],
      "metadata": {
        "colab": {
          "base_uri": "https://localhost:8080/"
        },
        "id": "w1CDtT_827xQ",
        "outputId": "0b1e9814-1b71-47a1-b073-75c02af7f596"
      },
      "execution_count": 16,
      "outputs": [
        {
          "output_type": "stream",
          "name": "stdout",
          "text": [
            "Enter a number to calculate its factorial: 3\n",
            "The factorial of 3 is 6\n"
          ]
        }
      ]
    },
    {
      "cell_type": "code",
      "source": [],
      "metadata": {
        "id": "u-KiswMO29E9"
      },
      "execution_count": null,
      "outputs": []
    },
    {
      "cell_type": "markdown",
      "source": [
        "# Finding the Sum of Digits of a Number"
      ],
      "metadata": {
        "id": "Y3UXZq-b3OXN"
      }
    },
    {
      "cell_type": "code",
      "source": [
        "number = int(input(\"Enter a number to find the sum of its digits: \"))\n",
        "\n",
        "sum_of_digits = 0\n",
        "\n",
        "while number > 0:\n",
        "    digit = number % 10\n",
        "    sum_of_digits += digit\n",
        "    number //= 10\n",
        "\n",
        "print(f\"The sum of the digits is {sum_of_digits}\")\n"
      ],
      "metadata": {
        "colab": {
          "base_uri": "https://localhost:8080/"
        },
        "id": "OnDESSc63Ou5",
        "outputId": "9bda0f69-c06f-4966-d2b0-a68429215e76"
      },
      "execution_count": 18,
      "outputs": [
        {
          "output_type": "stream",
          "name": "stdout",
          "text": [
            "Enter a number to find the sum of its digits: 8\n",
            "The sum of the digits is 8\n"
          ]
        }
      ]
    },
    {
      "cell_type": "markdown",
      "source": [
        "## Simulating a Simple Password Check"
      ],
      "metadata": {
        "id": "mHJyiegeogVm"
      }
    },
    {
      "cell_type": "markdown",
      "source": [],
      "metadata": {
        "id": "dnnnXzpYoP_B"
      }
    },
    {
      "cell_type": "markdown",
      "source": [],
      "metadata": {
        "id": "DpvNYaRy6hgW"
      }
    },
    {
      "cell_type": "code",
      "source": [
        "MIN_LENGTH = 8\n",
        "\n",
        "password = input(\"Enter a password: \")\n",
        "\n",
        "if len(password) >= MIN_LENGTH and any(char.isdigit() for char in password) and any(not char.isalnum() for char in password):\n",
        "    print(\"Password is valid.\")\n",
        "else:\n",
        "    print(\"Password is invalid. Make sure it has at least 8 characters, including numbers and special characters.\")"
      ],
      "metadata": {
        "colab": {
          "base_uri": "https://localhost:8080/"
        },
        "id": "B8h6waxg6lvL",
        "outputId": "d29d040a-ec45-4138-b699-ab1671537c23"
      },
      "execution_count": 3,
      "outputs": [
        {
          "output_type": "stream",
          "name": "stdout",
          "text": [
            "Enter a password: midosdlfd\n",
            "Password is invalid. Make sure it has at least 8 characters, including numbers and special characters.\n"
          ]
        }
      ]
    },
    {
      "cell_type": "code",
      "source": [],
      "metadata": {
        "id": "QsgOOLyD6ouM"
      },
      "execution_count": 27,
      "outputs": []
    },
    {
      "cell_type": "markdown",
      "source": [
        "# Write a Python program to find those numbers which are divisible by 7 and multiples of 5, between 1500 and 2700 (both included).\n"
      ],
      "metadata": {
        "id": "wN7xdWBp705V"
      }
    },
    {
      "cell_type": "code",
      "source": [
        "# Loop through the range of numbers\n",
        "for num in range(1500, 2701):\n",
        "    if num % 7 == 0 and num % 5 == 0:\n",
        "        print(num)\n"
      ],
      "metadata": {
        "colab": {
          "base_uri": "https://localhost:8080/"
        },
        "id": "zumvjIB674lS",
        "outputId": "c7607183-ec26-4fe5-fcd7-810779d248cd"
      },
      "execution_count": 32,
      "outputs": [
        {
          "output_type": "stream",
          "name": "stdout",
          "text": [
            "1505\n",
            "1540\n",
            "1575\n",
            "1610\n",
            "1645\n",
            "1680\n",
            "1715\n",
            "1750\n",
            "1785\n",
            "1820\n",
            "1855\n",
            "1890\n",
            "1925\n",
            "1960\n",
            "1995\n",
            "2030\n",
            "2065\n",
            "2100\n",
            "2135\n",
            "2170\n",
            "2205\n",
            "2240\n",
            "2275\n",
            "2310\n",
            "2345\n",
            "2380\n",
            "2415\n",
            "2450\n",
            "2485\n",
            "2520\n",
            "2555\n",
            "2590\n",
            "2625\n",
            "2660\n",
            "2695\n"
          ]
        }
      ]
    },
    {
      "cell_type": "markdown",
      "source": [],
      "metadata": {
        "id": "eD6JCNpt8KGM"
      }
    }
  ]
}